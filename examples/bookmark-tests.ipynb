{
 "cells": [
  {
   "cell_type": "code",
   "execution_count": 1,
   "metadata": {
    "ExecuteTime": {
     "end_time": "2021-01-17T03:17:26.645591Z",
     "start_time": "2021-01-17T03:17:26.492822Z"
    },
    "pycharm": {
     "is_executing": false
    }
   },
   "outputs": [],
   "source": [
    "import sys\n",
    "import os\n",
    "import sys\n",
    "import random\n",
    "import urllib.parse\n",
    "import time\n",
    "import re\n",
    "import requests\n",
    "\n",
    "import json\n",
    "from bs4 import BeautifulSoup\n",
    "\n",
    "sys.path.insert(0, os.path.abspath('..'))\n",
    "import importlib\n",
    "import ao3"
   ]
  },
  {
   "cell_type": "code",
   "execution_count": 2,
   "metadata": {
    "ExecuteTime": {
     "end_time": "2021-01-17T03:23:07.132120Z",
     "start_time": "2021-01-17T03:23:07.126089Z"
    }
   },
   "outputs": [],
   "source": [
    "importlib.reload(ao3)\n",
    "importlib.reload(ao3.works)\n",
    "from ao3.works import Work\n",
    "import ao3.works"
   ]
  },
  {
   "cell_type": "code",
   "execution_count": 3,
   "metadata": {
    "ExecuteTime": {
     "end_time": "2021-01-17T03:23:13.874694Z",
     "start_time": "2021-01-17T03:23:13.037029Z"
    }
   },
   "outputs": [],
   "source": [
    "page = requests.get('https://archiveofourown.org/users/McRibbedForHerPleasure/bookmarks')"
   ]
  },
  {
   "cell_type": "code",
   "execution_count": 4,
   "metadata": {
    "ExecuteTime": {
     "end_time": "2021-01-17T03:23:14.696338Z",
     "start_time": "2021-01-17T03:23:14.693299Z"
    },
    "pycharm": {
     "is_executing": false,
     "name": "#%%\n"
    }
   },
   "outputs": [],
   "source": [
    "client = ao3.AO3()\n",
    "handler = ao3.AO3Handler(init_client=client)"
   ]
  },
  {
   "cell_type": "code",
   "execution_count": 5,
   "metadata": {
    "ExecuteTime": {
     "end_time": "2021-01-17T03:23:22.947484Z",
     "start_time": "2021-01-17T03:23:18.742156Z"
    },
    "pycharm": {
     "is_executing": false,
     "name": "#%%\n"
    }
   },
   "outputs": [
    {
     "name": "stdout",
     "output_type": "stream",
     "text": [
      "Finding page: \t1 of bookmarks.\n",
      "looking for next button\n",
      "Finding page: \t2 of bookmarks.\n",
      "looking for next button\n",
      "Finding page: \t3 of bookmarks.\n",
      "looking for next button\n",
      "Finding page: \t4 of bookmarks.\n",
      "looking for next button\n",
      "disabled; breaking\n"
     ]
    }
   ],
   "source": [
    "results = handler.get_pages('McRibbedForHerPleasure', 'bookmarks')"
   ]
  },
  {
   "cell_type": "code",
   "execution_count": 6,
   "metadata": {
    "ExecuteTime": {
     "end_time": "2021-01-17T03:25:10.676635Z",
     "start_time": "2021-01-17T03:25:10.619779Z"
    }
   },
   "outputs": [
    {
     "name": "stdout",
     "output_type": "stream",
     "text": [
      "Inspecting page: \t1 of list. \t0 work ids found.\n",
      "Inspecting page: \t2 of list. \t20 work ids found.\n",
      "Inspecting page: \t3 of list. \t40 work ids found.\n",
      "Inspecting page: \t4 of list. \t60 work ids found.\n"
     ]
    }
   ],
   "source": [
    "works = ao3.works.iterate_pages(results, 'bookmark', save_HTML=True)"
   ]
  },
  {
   "cell_type": "code",
   "execution_count": 7,
   "metadata": {
    "ExecuteTime": {
     "end_time": "2021-01-17T03:25:16.764902Z",
     "start_time": "2021-01-17T03:25:16.760916Z"
    }
   },
   "outputs": [],
   "source": [
    "work_list = list(works.items())"
   ]
  },
  {
   "cell_type": "code",
   "execution_count": 22,
   "metadata": {
    "ExecuteTime": {
     "end_time": "2021-01-17T03:37:07.498966Z",
     "start_time": "2021-01-17T03:37:07.496762Z"
    }
   },
   "outputs": [],
   "source": [
    "client = ao3.AO3()"
   ]
  },
  {
   "cell_type": "code",
   "execution_count": 25,
   "metadata": {
    "ExecuteTime": {
     "end_time": "2021-01-17T03:37:46.880983Z",
     "start_time": "2021-01-17T03:37:46.180710Z"
    }
   },
   "outputs": [],
   "source": [
    "work = Work(23975986, io_handler=client.handler)"
   ]
  },
  {
   "cell_type": "code",
   "execution_count": 27,
   "metadata": {
    "ExecuteTime": {
     "end_time": "2021-01-17T03:38:04.332403Z",
     "start_time": "2021-01-17T03:38:04.326477Z"
    }
   },
   "outputs": [
    {
     "data": {
      "text/plain": [
       "['Six of Crows Series - Leigh Bardugo',\n",
       " 'Percy Jackson and the Olympians & Related Fandoms - All Media Types',\n",
       " 'The Grisha Trilogy - Leigh Bardugo',\n",
       " 'Nikolai Series - Leigh Bardugo',\n",
       " 'The Mortal Instruments Series - Cassandra Clare',\n",
       " 'Shadowhunters (TV)']"
      ]
     },
     "execution_count": 27,
     "metadata": {},
     "output_type": "execute_result"
    }
   ],
   "source": [
    "work.fandoms"
   ]
  }
 ],
 "metadata": {
  "kernelspec": {
   "display_name": "Python 3",
   "language": "python",
   "name": "python3"
  },
  "language_info": {
   "codemirror_mode": {
    "name": "ipython",
    "version": 3
   },
   "file_extension": ".py",
   "mimetype": "text/x-python",
   "name": "python",
   "nbconvert_exporter": "python",
   "pygments_lexer": "ipython3",
   "version": "3.8.1"
  },
  "pycharm": {
   "stem_cell": {
    "cell_type": "raw",
    "metadata": {
     "collapsed": false
    },
    "source": []
   }
  }
 },
 "nbformat": 4,
 "nbformat_minor": 1
}
