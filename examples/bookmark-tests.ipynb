{
 "cells": [
  {
   "cell_type": "code",
   "execution_count": 39,
   "metadata": {
    "ExecuteTime": {
     "end_time": "2021-01-06T18:45:58.346433Z",
     "start_time": "2021-01-06T18:45:58.327413Z"
    },
    "pycharm": {
     "is_executing": false
    }
   },
   "outputs": [],
   "source": [
    "import sys\n",
    "import os\n",
    "import sys\n",
    "import random\n",
    "import urllib.parse\n",
    "import time\n",
    "import re\n",
    "import requests\n",
    "\n",
    "import json\n",
    "from bs4 import BeautifulSoup\n",
    "\n",
    "sys.path.insert(0, os.path.abspath('..'))\n",
    "import importlib"
   ]
  },
  {
   "cell_type": "code",
   "execution_count": 45,
   "metadata": {
    "ExecuteTime": {
     "end_time": "2021-01-06T18:49:07.576482Z",
     "start_time": "2021-01-06T18:49:07.564471Z"
    }
   },
   "outputs": [],
   "source": [
    "\n",
    "importlib.reload(ao3)\n",
    "importlib.reload(ao3.works)\n",
    "from ao3.works import Work\n",
    "import ao3.works"
   ]
  },
  {
   "cell_type": "code",
   "execution_count": null,
   "metadata": {},
   "outputs": [],
   "source": [
    "page = requests.get('https://archiveofourown.org/users/McRibbedForHerPleasure/bookmarks')"
   ]
  },
  {
   "cell_type": "code",
   "execution_count": 46,
   "metadata": {
    "ExecuteTime": {
     "end_time": "2021-01-06T18:49:28.262177Z",
     "start_time": "2021-01-06T18:49:28.255170Z"
    },
    "pycharm": {
     "is_executing": false,
     "name": "#%%\n"
    }
   },
   "outputs": [],
   "source": [
    "client = ao3.AO3()\n",
    "handler = ao3.AO3Handler(init_client=client)"
   ]
  },
  {
   "cell_type": "code",
   "execution_count": 47,
   "metadata": {
    "ExecuteTime": {
     "end_time": "2021-01-06T18:49:32.925943Z",
     "start_time": "2021-01-06T18:49:29.014706Z"
    },
    "pycharm": {
     "is_executing": false,
     "name": "#%%\n"
    }
   },
   "outputs": [
    {
     "name": "stdout",
     "output_type": "stream",
     "text": [
      "Finding page: \t1 of bookmarks.\n",
      "looking for next button\n",
      "Finding page: \t2 of bookmarks.\n",
      "looking for next button\n",
      "Finding page: \t3 of bookmarks.\n",
      "looking for next button\n",
      "Finding page: \t4 of bookmarks.\n",
      "looking for next button\n",
      "disabled; breaking\n"
     ]
    }
   ],
   "source": [
    "results = handler.get_pages('McRibbedForHerPleasure', 'bookmarks')"
   ]
  },
  {
   "cell_type": "code",
   "execution_count": 49,
   "metadata": {
    "ExecuteTime": {
     "end_time": "2021-01-06T18:50:13.417085Z",
     "start_time": "2021-01-06T18:50:13.324001Z"
    }
   },
   "outputs": [
    {
     "name": "stdout",
     "output_type": "stream",
     "text": [
      "Inspecting page: \t1 of list. \t0 work ids found.\n",
      "Inspecting page: \t2 of list. \t20 work ids found.\n",
      "Inspecting page: \t3 of list. \t40 work ids found.\n",
      "Inspecting page: \t4 of list. \t60 work ids found.\n"
     ]
    }
   ],
   "source": [
    "works = ao3.works.iterate_pages(results, 'bookmark', save_HTML=True)"
   ]
  },
  {
   "cell_type": "code",
   "execution_count": 50,
   "metadata": {
    "ExecuteTime": {
     "end_time": "2021-01-06T18:50:15.853903Z",
     "start_time": "2021-01-06T18:50:15.843903Z"
    }
   },
   "outputs": [],
   "source": [
    "work_list = list(works.items())"
   ]
  },
  {
   "cell_type": "code",
   "execution_count": 52,
   "metadata": {
    "ExecuteTime": {
     "end_time": "2021-01-06T18:50:52.797789Z",
     "start_time": "2021-01-06T18:50:52.785779Z"
    }
   },
   "outputs": [
    {
     "data": {
      "text/plain": [
       "Work(id='28421556')"
      ]
     },
     "execution_count": 52,
     "metadata": {},
     "output_type": "execute_result"
    }
   ],
   "source": [
    "Work(work_list[0][0], soup=work_list[0][1])"
   ]
  },
  {
   "cell_type": "code",
   "execution_count": 53,
   "metadata": {
    "ExecuteTime": {
     "end_time": "2021-01-06T18:52:08.409478Z",
     "start_time": "2021-01-06T18:52:08.401471Z"
    }
   },
   "outputs": [],
   "source": [
    "soup = work_list[0][1]"
   ]
  },
  {
   "cell_type": "code",
   "execution_count": 65,
   "metadata": {
    "ExecuteTime": {
     "end_time": "2021-01-06T19:18:18.862124Z",
     "start_time": "2021-01-06T19:18:18.858120Z"
    }
   },
   "outputs": [
    {
     "data": {
      "text/plain": [
       "<a href=\"/works/28421556\">If You Like Piña Coladas (And Getting Caught In A Lie)</a>"
      ]
     },
     "execution_count": 65,
     "metadata": {},
     "output_type": "execute_result"
    }
   ],
   "source": [
    "soup.find('a', href=re.compile('/works/\\d+$'))"
   ]
  },
  {
   "cell_type": "code",
   "execution_count": null,
   "metadata": {},
   "outputs": [],
   "source": []
  }
 ],
 "metadata": {
  "kernelspec": {
   "display_name": "Python 3",
   "language": "python",
   "name": "python3"
  },
  "language_info": {
   "codemirror_mode": {
    "name": "ipython",
    "version": 3
   },
   "file_extension": ".py",
   "mimetype": "text/x-python",
   "name": "python",
   "nbconvert_exporter": "python",
   "pygments_lexer": "ipython3",
   "version": "3.7.4"
  },
  "pycharm": {
   "stem_cell": {
    "cell_type": "raw",
    "metadata": {
     "collapsed": false
    },
    "source": []
   }
  }
 },
 "nbformat": 4,
 "nbformat_minor": 1
}
