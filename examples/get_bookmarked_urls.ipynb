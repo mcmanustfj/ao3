{
 "metadata": {
  "language_info": {
   "codemirror_mode": {
    "name": "ipython",
    "version": 3
   },
   "file_extension": ".py",
   "mimetype": "text/x-python",
   "name": "python",
   "nbconvert_exporter": "python",
   "pygments_lexer": "ipython3",
   "version": "3.8.5"
  },
  "orig_nbformat": 2,
  "kernelspec": {
   "name": "python3",
   "display_name": "Python 3",
   "language": "python"
  }
 },
 "nbformat": 4,
 "nbformat_minor": 2,
 "cells": [
  {
   "cell_type": "code",
   "execution_count": 21,
   "metadata": {},
   "outputs": [],
   "source": [
    "sys.path.insert(0, os.path.abspath('..'))\n",
    "\n",
    "from ao3.__init__ import * \n",
    "# from ao3.handlers import AO3Handler\n",
    "import getpass"
   ]
  },
  {
   "cell_type": "code",
   "execution_count": 22,
   "metadata": {},
   "outputs": [],
   "source": [
    "ao3_inst = ao3.AO3()"
   ]
  },
  {
   "cell_type": "code",
   "execution_count": 23,
   "metadata": {},
   "outputs": [
    {
     "output_type": "stream",
     "name": "stdout",
     "text": [
      "Authentication successful. You are logged in.\n"
     ]
    }
   ],
   "source": [
    "ao3_inst.login('starrybouquet')"
   ]
  },
  {
   "cell_type": "code",
   "execution_count": 25,
   "metadata": {},
   "outputs": [],
   "source": [
    "me = ao3_inst.user"
   ]
  },
  {
   "cell_type": "code",
   "execution_count": 26,
   "metadata": {},
   "outputs": [
    {
     "output_type": "stream",
     "name": "stdout",
     "text": [
      "Finding page: \t1 of bookmarks.\n",
      "looking for next button\n",
      "Finding page: \t2 of bookmarks.\n",
      "looking for next button\n",
      "Finding page: \t3 of bookmarks.\n",
      "looking for next button\n",
      "Finding page: \t4 of bookmarks.\n",
      "looking for next button\n",
      "Finding page: \t5 of bookmarks.\n",
      "looking for next button\n",
      "Finding page: \t6 of bookmarks.\n",
      "looking for next button\n",
      "Finding page: \t7 of bookmarks.\n",
      "looking for next button\n",
      "Finding page: \t8 of bookmarks.\n",
      "looking for next button\n",
      "Finding page: \t9 of bookmarks.\n",
      "looking for next button\n",
      "Finding page: \t10 of bookmarks.\n",
      "looking for next button\n",
      "Finding page: \t11 of bookmarks.\n",
      "looking for next button\n",
      "Finding page: \t12 of bookmarks.\n",
      "looking for next button\n",
      "Finding page: \t13 of bookmarks.\n",
      "looking for next button\n",
      "Finding page: \t14 of bookmarks.\n",
      "looking for next button\n",
      "Finding page: \t15 of bookmarks.\n",
      "looking for next button\n",
      "Finding page: \t16 of bookmarks.\n",
      "looking for next button\n",
      "Finding page: \t17 of bookmarks.\n",
      "looking for next button\n",
      "disabled; breaking\n",
      "Inspecting page: \t1 of list. \t0 work ids found.\n",
      "Inspecting page: \t2 of list. \t20 work ids found.\n",
      "Inspecting page: \t3 of list. \t40 work ids found.\n",
      "Inspecting page: \t4 of list. \t60 work ids found.\n",
      "Inspecting page: \t5 of list. \t80 work ids found.\n",
      "Inspecting page: \t6 of list. \t100 work ids found.\n",
      "Inspecting page: \t7 of list. \t120 work ids found.\n",
      "Inspecting page: \t8 of list. \t140 work ids found.\n",
      "Inspecting page: \t9 of list. \t160 work ids found.\n",
      "Inspecting page: \t10 of list. \t180 work ids found.\n",
      "Inspecting page: \t11 of list. \t200 work ids found.\n",
      "Inspecting page: \t12 of list. \t220 work ids found.\n",
      "Inspecting page: \t13 of list. \t240 work ids found.\n",
      "Inspecting page: \t14 of list. \t260 work ids found.\n",
      "Inspecting page: \t15 of list. \t280 work ids found.\n",
      "Inspecting page: \t16 of list. \t300 work ids found.\n",
      "Inspecting page: \t17 of list. \t320 work ids found.\n"
     ]
    }
   ],
   "source": [
    "bookmark_id_list = me.bookmarks_ids()"
   ]
  },
  {
   "cell_type": "code",
   "execution_count": 30,
   "metadata": {},
   "outputs": [],
   "source": [
    "work_template = 'https://archiveofourown.org/works/{}'\n",
    "bookmark_urls = [work_template.format(workid) for workid in bookmark_id_list]"
   ]
  },
  {
   "cell_type": "code",
   "execution_count": 31,
   "metadata": {},
   "outputs": [],
   "source": [
    "url_list = '\\n'.join(bookmark_urls)\n",
    "with open('bookmark_out.txt', 'w') as f:\n",
    "    f.write(url_list)"
   ]
  }
 ]
}